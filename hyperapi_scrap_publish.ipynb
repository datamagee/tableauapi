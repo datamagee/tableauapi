{
 "cells": [
  {
   "cell_type": "code",
   "execution_count": 1,
   "metadata": {},
   "outputs": [],
   "source": [
    "import pandas\n",
    "import os\n",
    "import io\n",
    "import requests\n",
    "import json\n",
    "from pathlib import Path\n",
    "from datetime import datetime\n",
    "import tableauserverclient as TSC\n",
    "from tableauhyperapi import HyperProcess, Connection, TableDefinition, SqlType, Telemetry, Inserter, CreateMode, TableName\n",
    "from tableauhyperapi import escape_string_literal\n",
    "from tableau_api_lib import TableauServerConnection\n",
    "from tableau_api_lib.utils.querying import get_projects_dataframe\n"
   ]
  },
  {
   "cell_type": "code",
   "execution_count": 2,
   "metadata": {},
   "outputs": [],
   "source": [
    "api_url = \"https://weather.visualcrossing.com/VisualCrossingWebServices/rest/services/weatherdata/forecast?aggregateHours=1&combinationMethod=aggregate&includeAstronomy=true&contentType=csv&unitGroup=metric&locationMode=single&key=ZD8LFMAZYH79RN3D8CQLKC2E8&dataElements=default&locations=chennai\"\n",
    "response = requests.get(api_url)\n",
    "data = response.text\n",
    "\n",
    "df = pandas.read_csv(io.StringIO(data))\n",
    "\n",
    "df = df[['Name',\n",
    " 'Date time',\n",
    " 'Temperature',\n",
    " 'Chance Precipitation (%)',\n",
    " 'Precipitation',\n",
    " 'Wind Speed',\n",
    " 'Wind Gust',\n",
    " 'Visibility',\n",
    " 'Cloud Cover',\n",
    " 'Relative Humidity',\n",
    " 'Moon Phase',\n",
    " 'Conditions']]\n",
    "df['Date time'] = df['Date time'].apply(pandas.to_datetime)\n",
    "df['Conditions'] = df['Conditions'].fillna('null')"
   ]
  },
  {
   "cell_type": "code",
   "execution_count": 3,
   "metadata": {},
   "outputs": [
    {
     "name": "stdout",
     "output_type": "stream",
     "text": [
      "The connection to the Hyper file is closed.\n"
     ]
    }
   ],
   "source": [
    "path_to_hyper = 'weather_forcast.hyper'\n",
    "\n",
    "\n",
    "# \n",
    "with HyperProcess(Telemetry.SEND_USAGE_DATA_TO_TABLEAU, 'myapp' ) as hyper:\n",
    "\n",
    "# Step 2:  Create the the .hyper file, replace it if it already exists\n",
    "    with Connection(endpoint=hyper.endpoint, \n",
    "                    create_mode=CreateMode.CREATE_AND_REPLACE,\n",
    "                    database=path_to_hyper) as connection:\n",
    "\n",
    "# Step 3: Create the schema\n",
    "        connection.catalog.create_schema('Extract')\n",
    "\n",
    "# Step 4: Create the table definition\n",
    "        schema = TableDefinition(table_name=TableName('Extract','Extract'),\n",
    "            columns=[\n",
    "            TableDefinition.Column('name', SqlType.text()),\n",
    "            TableDefinition.Column('date', SqlType.date()),\n",
    "            TableDefinition.Column('temperature', SqlType.double()),\n",
    "            TableDefinition.Column('chance_precipitation', SqlType.double()),\n",
    "            TableDefinition.Column('precipitation', SqlType.double()),\n",
    "            TableDefinition.Column('wind_speed', SqlType.double()),\n",
    "            TableDefinition.Column('wind_gust', SqlType.double()),\n",
    "            TableDefinition.Column('visiblity', SqlType.double()),\n",
    "            TableDefinition.Column('cloud_cover', SqlType.double()),\n",
    "            TableDefinition.Column('relative_humidity', SqlType.double()),\n",
    "            TableDefinition.Column('moon_phase', SqlType.double()),\n",
    "            TableDefinition.Column('condition', SqlType.text()),\n",
    "         ])\n",
    "    \n",
    "# Step 5: Create the table in the connection catalog\n",
    "        connection.catalog.create_table(schema)\n",
    "    \n",
    "        with Inserter(connection, schema) as inserter:\n",
    "            for index, row in df.iterrows():\n",
    "                inserter.add_row(row)\n",
    "            inserter.execute()\n",
    "\n",
    "    print(\"The connection to the Hyper file is closed.\")\n"
   ]
  },
  {
   "cell_type": "code",
   "execution_count": 4,
   "metadata": {},
   "outputs": [],
   "source": [
    "#config to publish\n",
    "hyper_name = 'weather_forcast.hyper'\n",
    "server_address = 'https://prod-apnortheast-a.online.tableau.com/'\n",
    "site_name = 'demo1996'\n",
    "project_name = 'api_test'\n",
    "token_name = 'mytoken'\n",
    "token_value = 'xrGvy7KFRmyPBoXSezZ/vg==:7sGeIgW3yuKsE1ouoBgytcg2ZCuKoMVb'"
   ]
  },
  {
   "cell_type": "code",
   "execution_count": 5,
   "metadata": {},
   "outputs": [
    {
     "name": "stdout",
     "output_type": "stream",
     "text": [
      "Signing into demo1996 at https://prod-apnortheast-a.online.tableau.com/\n",
      "Publishing weather_forcast.hyper to api_test...\n",
      "Datasource published. Datasource ID: 131e86cb-c60d-443a-9ae0-223228a12600\n"
     ]
    }
   ],
   "source": [
    "def publish_hyper():\n",
    "    \"\"\"\n",
    "    Shows how to leverage the Tableau Server Client (TSC) to sign in and publish an extract directly to Tableau Online/Server\n",
    "    \"\"\"\n",
    "\n",
    "    # Sign in to server\n",
    "    tableau_auth = TSC.PersonalAccessTokenAuth(token_name=token_name, personal_access_token=token_value, site_id=site_name)\n",
    "    server = TSC.Server(server_address, use_server_version=True)\n",
    "    \n",
    "    print(f\"Signing into {site_name} at {server_address}\")\n",
    "    with server.auth.sign_in(tableau_auth):\n",
    "        # Define publish mode - Overwrite, Append, or CreateNew\n",
    "        publish_mode = TSC.Server.PublishMode.Overwrite\n",
    "        \n",
    "        # Get project_id from project_name\n",
    "        all_projects, pagination_item = server.projects.get()\n",
    "        for project in TSC.Pager(server.projects):\n",
    "            if project.name == project_name:\n",
    "                project_id = project.id\n",
    "    \n",
    "        # Create the datasource object with the project_id\n",
    "        datasource = TSC.DatasourceItem(project_id)\n",
    "        \n",
    "        print(f\"Publishing {hyper_name} to {project_name}...\")\n",
    "        # Publish datasource\n",
    "        datasource = server.datasources.publish(datasource, path_to_hyper, publish_mode)\n",
    "        print(\"Datasource published. Datasource ID: {0}\".format(datasource.id))\n",
    "\n",
    "\n",
    "if __name__ == '__main__':\n",
    "    publish_hyper()"
   ]
  },
  {
   "cell_type": "code",
   "execution_count": null,
   "metadata": {},
   "outputs": [],
   "source": []
  }
 ],
 "metadata": {
  "kernelspec": {
   "display_name": "Python 3",
   "language": "python",
   "name": "python3"
  },
  "language_info": {
   "codemirror_mode": {
    "name": "ipython",
    "version": 3
   },
   "file_extension": ".py",
   "mimetype": "text/x-python",
   "name": "python",
   "nbconvert_exporter": "python",
   "pygments_lexer": "ipython3",
   "version": "3.7.3"
  }
 },
 "nbformat": 4,
 "nbformat_minor": 2
}
